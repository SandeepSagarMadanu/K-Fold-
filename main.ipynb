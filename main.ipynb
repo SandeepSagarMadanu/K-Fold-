{
 "cells": [
  {
   "cell_type": "code",
   "execution_count": 1,
   "id": "22ea8e2a",
   "metadata": {},
   "outputs": [],
   "source": [
    "# Import necessary libraries\n",
    "from sklearn.datasets import load_iris\n",
    "from sklearn.model_selection import cross_val_score\n",
    "from sklearn.linear_model import LogisticRegression\n",
    "from sklearn.svm import SVC\n",
    "from sklearn.tree import DecisionTreeClassifier\n",
    "from sklearn.ensemble import RandomForestClassifier\n",
    "import numpy as np\n"
   ]
  },
  {
   "cell_type": "code",
   "execution_count": 2,
   "id": "fdea764f",
   "metadata": {},
   "outputs": [],
   "source": [
    "# Load the Iris dataset\n",
    "iris = load_iris()\n",
    "X = iris.data\n",
    "y = iris.target"
   ]
  },
  {
   "cell_type": "code",
   "execution_count": 3,
   "id": "1076e5ba",
   "metadata": {},
   "outputs": [],
   "source": [
    "# Define all models\n",
    "models = {\n",
    "    \"Logistic Regression\": LogisticRegression(max_iter=200),\n",
    "    \"Support Vector Machine\": SVC(),\n",
    "    \"Decision Tree\": DecisionTreeClassifier(),\n",
    "    \"Random Forest\": RandomForestClassifier()\n",
    "}\n"
   ]
  },
  {
   "cell_type": "code",
   "execution_count": 4,
   "id": "33c20e17",
   "metadata": {},
   "outputs": [],
   "source": [
    "# Dictionary to store cross-validation scores\n",
    "cv_scores = {}\n"
   ]
  },
  {
   "cell_type": "code",
   "execution_count": 5,
   "id": "724860d6",
   "metadata": {},
   "outputs": [
    {
     "name": "stdout",
     "output_type": "stream",
     "text": [
      "Logistic Regression: Mean Cross-Validation Score = 97.33%\n",
      "Support Vector Machine: Mean Cross-Validation Score = 96.67%\n",
      "Decision Tree: Mean Cross-Validation Score = 96.00%\n",
      "Random Forest: Mean Cross-Validation Score = 96.00%\n"
     ]
    }
   ],
   "source": [
    "# Perform 5-fold cross-validation for each model\n",
    "for name, model in models.items():\n",
    "    scores = cross_val_score(model, X, y, cv=5)  # 5-fold cross-validation\n",
    "    avg_score = np.mean(scores)\n",
    "    cv_scores[name] = avg_score\n",
    "    print(f\"{name}: Mean Cross-Validation Score = {avg_score * 100:.2f}%\")\n",
    "\n"
   ]
  },
  {
   "cell_type": "code",
   "execution_count": 6,
   "id": "40c368c1",
   "metadata": {},
   "outputs": [
    {
     "name": "stdout",
     "output_type": "stream",
     "text": [
      "\n",
      "Best Performing Model: Logistic Regression with 97.33% accuracy.\n"
     ]
    }
   ],
   "source": [
    "# Find the best model\n",
    "best_model = max(cv_scores, key=cv_scores.get)\n",
    "print(f\"\\nBest Performing Model: {best_model} with {cv_scores[best_model] * 100:.2f}% accuracy.\")\n"
   ]
  }
 ],
 "metadata": {
  "kernelspec": {
   "display_name": "Python 3",
   "language": "python",
   "name": "python3"
  },
  "language_info": {
   "codemirror_mode": {
    "name": "ipython",
    "version": 3
   },
   "file_extension": ".py",
   "mimetype": "text/x-python",
   "name": "python",
   "nbconvert_exporter": "python",
   "pygments_lexer": "ipython3",
   "version": "3.12.7"
  }
 },
 "nbformat": 4,
 "nbformat_minor": 5
}
